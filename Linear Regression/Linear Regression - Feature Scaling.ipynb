{
 "cells": [
  {
   "cell_type": "code",
   "execution_count": 1,
   "metadata": {},
   "outputs": [],
   "source": [
    "import pandas as pd\n",
    "import numpy as np\n",
    "import matplotlib.pyplot as plt\n",
    "import seaborn as sns\n",
    "from sklearn import preprocessing"
   ]
  },
  {
   "cell_type": "code",
   "execution_count": 2,
   "metadata": {},
   "outputs": [],
   "source": [
    "%matplotlib inline"
   ]
  },
  {
   "cell_type": "code",
   "execution_count": 3,
   "metadata": {},
   "outputs": [],
   "source": [
    "x = pd.read_excel('LRFSOPQTY.xlsx')"
   ]
  },
  {
   "cell_type": "code",
   "execution_count": 4,
   "metadata": {},
   "outputs": [
    {
     "data": {
      "text/html": [
       "<div>\n",
       "<style>\n",
       "    .dataframe thead tr:only-child th {\n",
       "        text-align: right;\n",
       "    }\n",
       "\n",
       "    .dataframe thead th {\n",
       "        text-align: left;\n",
       "    }\n",
       "\n",
       "    .dataframe tbody tr th {\n",
       "        vertical-align: top;\n",
       "    }\n",
       "</style>\n",
       "<table border=\"1\" class=\"dataframe\">\n",
       "  <thead>\n",
       "    <tr style=\"text-align: right;\">\n",
       "      <th></th>\n",
       "      <th>Year</th>\n",
       "      <th>Oil Price</th>\n",
       "      <th>Total Sales</th>\n",
       "      <th>Qty MC205</th>\n",
       "    </tr>\n",
       "  </thead>\n",
       "  <tbody>\n",
       "    <tr>\n",
       "      <th>0</th>\n",
       "      <td>2016-01-01</td>\n",
       "      <td>29.78</td>\n",
       "      <td>1380587.63</td>\n",
       "      <td>26</td>\n",
       "    </tr>\n",
       "    <tr>\n",
       "      <th>1</th>\n",
       "      <td>2016-02-01</td>\n",
       "      <td>31.03</td>\n",
       "      <td>970876.71</td>\n",
       "      <td>30</td>\n",
       "    </tr>\n",
       "    <tr>\n",
       "      <th>2</th>\n",
       "      <td>2016-03-03</td>\n",
       "      <td>37.34</td>\n",
       "      <td>867645.65</td>\n",
       "      <td>62</td>\n",
       "    </tr>\n",
       "    <tr>\n",
       "      <th>3</th>\n",
       "      <td>2016-04-03</td>\n",
       "      <td>40.75</td>\n",
       "      <td>449015.42</td>\n",
       "      <td>6</td>\n",
       "    </tr>\n",
       "    <tr>\n",
       "      <th>4</th>\n",
       "      <td>2016-05-04</td>\n",
       "      <td>45.94</td>\n",
       "      <td>478956.43</td>\n",
       "      <td>126</td>\n",
       "    </tr>\n",
       "  </tbody>\n",
       "</table>\n",
       "</div>"
      ],
      "text/plain": [
       "        Year  Oil Price  Total Sales  Qty MC205\n",
       "0 2016-01-01      29.78   1380587.63         26\n",
       "1 2016-02-01      31.03    970876.71         30\n",
       "2 2016-03-03      37.34    867645.65         62\n",
       "3 2016-04-03      40.75    449015.42          6\n",
       "4 2016-05-04      45.94    478956.43        126"
      ]
     },
     "execution_count": 4,
     "metadata": {},
     "output_type": "execute_result"
    }
   ],
   "source": [
    "x.head()"
   ]
  },
  {
   "cell_type": "code",
   "execution_count": 5,
   "metadata": {},
   "outputs": [
    {
     "data": {
      "text/html": [
       "<div>\n",
       "<style>\n",
       "    .dataframe thead tr:only-child th {\n",
       "        text-align: right;\n",
       "    }\n",
       "\n",
       "    .dataframe thead th {\n",
       "        text-align: left;\n",
       "    }\n",
       "\n",
       "    .dataframe tbody tr th {\n",
       "        vertical-align: top;\n",
       "    }\n",
       "</style>\n",
       "<table border=\"1\" class=\"dataframe\">\n",
       "  <thead>\n",
       "    <tr style=\"text-align: right;\">\n",
       "      <th></th>\n",
       "      <th>Oil Price</th>\n",
       "      <th>Total Sales</th>\n",
       "      <th>Qty MC205</th>\n",
       "    </tr>\n",
       "  </thead>\n",
       "  <tbody>\n",
       "    <tr>\n",
       "      <th>count</th>\n",
       "      <td>30.000000</td>\n",
       "      <td>3.000000e+01</td>\n",
       "      <td>30.000000</td>\n",
       "    </tr>\n",
       "    <tr>\n",
       "      <th>mean</th>\n",
       "      <td>51.917000</td>\n",
       "      <td>3.302241e+06</td>\n",
       "      <td>79.100000</td>\n",
       "    </tr>\n",
       "    <tr>\n",
       "      <th>std</th>\n",
       "      <td>10.954843</td>\n",
       "      <td>3.679282e+06</td>\n",
       "      <td>77.578592</td>\n",
       "    </tr>\n",
       "    <tr>\n",
       "      <th>min</th>\n",
       "      <td>29.780000</td>\n",
       "      <td>4.490154e+05</td>\n",
       "      <td>2.000000</td>\n",
       "    </tr>\n",
       "    <tr>\n",
       "      <th>25%</th>\n",
       "      <td>45.430000</td>\n",
       "      <td>8.934534e+05</td>\n",
       "      <td>26.750000</td>\n",
       "    </tr>\n",
       "    <tr>\n",
       "      <th>50%</th>\n",
       "      <td>50.420000</td>\n",
       "      <td>1.503081e+06</td>\n",
       "      <td>40.500000</td>\n",
       "    </tr>\n",
       "    <tr>\n",
       "      <th>75%</th>\n",
       "      <td>58.677500</td>\n",
       "      <td>4.216898e+06</td>\n",
       "      <td>123.500000</td>\n",
       "    </tr>\n",
       "    <tr>\n",
       "      <th>max</th>\n",
       "      <td>74.030000</td>\n",
       "      <td>1.300366e+07</td>\n",
       "      <td>254.000000</td>\n",
       "    </tr>\n",
       "  </tbody>\n",
       "</table>\n",
       "</div>"
      ],
      "text/plain": [
       "       Oil Price   Total Sales   Qty MC205\n",
       "count  30.000000  3.000000e+01   30.000000\n",
       "mean   51.917000  3.302241e+06   79.100000\n",
       "std    10.954843  3.679282e+06   77.578592\n",
       "min    29.780000  4.490154e+05    2.000000\n",
       "25%    45.430000  8.934534e+05   26.750000\n",
       "50%    50.420000  1.503081e+06   40.500000\n",
       "75%    58.677500  4.216898e+06  123.500000\n",
       "max    74.030000  1.300366e+07  254.000000"
      ]
     },
     "execution_count": 5,
     "metadata": {},
     "output_type": "execute_result"
    }
   ],
   "source": [
    "x.describe()"
   ]
  },
  {
   "cell_type": "code",
   "execution_count": 6,
   "metadata": {},
   "outputs": [],
   "source": [
    "x.set_index('Year',inplace = True)"
   ]
  },
  {
   "cell_type": "code",
   "execution_count": 7,
   "metadata": {},
   "outputs": [],
   "source": [
    "standard = preprocessing.StandardScaler().fit(x)\n",
    "data = standard.transform(x)"
   ]
  },
  {
   "cell_type": "code",
   "execution_count": 8,
   "metadata": {},
   "outputs": [
    {
     "data": {
      "text/plain": [
       "Index(['Oil Price', 'Total Sales', 'Qty MC205'], dtype='object')"
      ]
     },
     "execution_count": 8,
     "metadata": {},
     "output_type": "execute_result"
    }
   ],
   "source": [
    "x.columns"
   ]
  },
  {
   "cell_type": "code",
   "execution_count": 9,
   "metadata": {},
   "outputs": [
    {
     "data": {
      "text/html": [
       "<div>\n",
       "<style>\n",
       "    .dataframe thead tr:only-child th {\n",
       "        text-align: right;\n",
       "    }\n",
       "\n",
       "    .dataframe thead th {\n",
       "        text-align: left;\n",
       "    }\n",
       "\n",
       "    .dataframe tbody tr th {\n",
       "        vertical-align: top;\n",
       "    }\n",
       "</style>\n",
       "<table border=\"1\" class=\"dataframe\">\n",
       "  <thead>\n",
       "    <tr style=\"text-align: right;\">\n",
       "      <th></th>\n",
       "      <th>Oil Price</th>\n",
       "      <th>Qty MC205</th>\n",
       "      <th>Total Sales</th>\n",
       "    </tr>\n",
       "  </thead>\n",
       "  <tbody>\n",
       "    <tr>\n",
       "      <th>0</th>\n",
       "      <td>-2.055295</td>\n",
       "      <td>-0.696168</td>\n",
       "      <td>-0.531219</td>\n",
       "    </tr>\n",
       "    <tr>\n",
       "      <th>1</th>\n",
       "      <td>-1.939240</td>\n",
       "      <td>-0.643726</td>\n",
       "      <td>-0.644479</td>\n",
       "    </tr>\n",
       "    <tr>\n",
       "      <th>2</th>\n",
       "      <td>-1.353392</td>\n",
       "      <td>-0.224190</td>\n",
       "      <td>-0.673016</td>\n",
       "    </tr>\n",
       "    <tr>\n",
       "      <th>3</th>\n",
       "      <td>-1.036793</td>\n",
       "      <td>-0.958379</td>\n",
       "      <td>-0.788741</td>\n",
       "    </tr>\n",
       "    <tr>\n",
       "      <th>4</th>\n",
       "      <td>-0.554931</td>\n",
       "      <td>0.614883</td>\n",
       "      <td>-0.780464</td>\n",
       "    </tr>\n",
       "    <tr>\n",
       "      <th>5</th>\n",
       "      <td>-0.392453</td>\n",
       "      <td>-0.696168</td>\n",
       "      <td>-0.722357</td>\n",
       "    </tr>\n",
       "    <tr>\n",
       "      <th>6</th>\n",
       "      <td>-0.722979</td>\n",
       "      <td>-0.958379</td>\n",
       "      <td>-0.715384</td>\n",
       "    </tr>\n",
       "    <tr>\n",
       "      <th>7</th>\n",
       "      <td>-0.653346</td>\n",
       "      <td>-0.289742</td>\n",
       "      <td>-0.714254</td>\n",
       "    </tr>\n",
       "    <tr>\n",
       "      <th>8</th>\n",
       "      <td>-0.638491</td>\n",
       "      <td>-0.578174</td>\n",
       "      <td>-0.722989</td>\n",
       "    </tr>\n",
       "    <tr>\n",
       "      <th>9</th>\n",
       "      <td>-0.243902</td>\n",
       "      <td>-0.643726</td>\n",
       "      <td>-0.742557</td>\n",
       "    </tr>\n",
       "    <tr>\n",
       "      <th>10</th>\n",
       "      <td>-0.618065</td>\n",
       "      <td>-0.656837</td>\n",
       "      <td>-0.614879</td>\n",
       "    </tr>\n",
       "    <tr>\n",
       "      <th>11</th>\n",
       "      <td>0.065270</td>\n",
       "      <td>-0.211079</td>\n",
       "      <td>-0.616294</td>\n",
       "    </tr>\n",
       "    <tr>\n",
       "      <th>12</th>\n",
       "      <td>0.155329</td>\n",
       "      <td>-0.486400</td>\n",
       "      <td>-0.619869</td>\n",
       "    </tr>\n",
       "    <tr>\n",
       "      <th>13</th>\n",
       "      <td>0.225890</td>\n",
       "      <td>2.293029</td>\n",
       "      <td>-0.421054</td>\n",
       "    </tr>\n",
       "    <tr>\n",
       "      <th>14</th>\n",
       "      <td>-0.094423</td>\n",
       "      <td>-0.525732</td>\n",
       "      <td>-0.175308</td>\n",
       "    </tr>\n",
       "    <tr>\n",
       "      <th>15</th>\n",
       "      <td>0.022561</td>\n",
       "      <td>-0.958379</td>\n",
       "      <td>0.049676</td>\n",
       "    </tr>\n",
       "    <tr>\n",
       "      <th>16</th>\n",
       "      <td>-0.188195</td>\n",
       "      <td>0.156015</td>\n",
       "      <td>0.320570</td>\n",
       "    </tr>\n",
       "    <tr>\n",
       "      <th>17</th>\n",
       "      <td>-0.533576</td>\n",
       "      <td>-0.905937</td>\n",
       "      <td>0.660890</td>\n",
       "    </tr>\n",
       "    <tr>\n",
       "      <th>18</th>\n",
       "      <td>-0.395238</td>\n",
       "      <td>-0.578174</td>\n",
       "      <td>0.966522</td>\n",
       "    </tr>\n",
       "    <tr>\n",
       "      <th>19</th>\n",
       "      <td>-0.183553</td>\n",
       "      <td>-0.617505</td>\n",
       "      <td>1.281110</td>\n",
       "    </tr>\n",
       "    <tr>\n",
       "      <th>20</th>\n",
       "      <td>0.095908</td>\n",
       "      <td>0.680436</td>\n",
       "      <td>1.642132</td>\n",
       "    </tr>\n",
       "    <tr>\n",
       "      <th>21</th>\n",
       "      <td>0.278812</td>\n",
       "      <td>0.483778</td>\n",
       "      <td>2.003061</td>\n",
       "    </tr>\n",
       "    <tr>\n",
       "      <th>22</th>\n",
       "      <td>0.743962</td>\n",
       "      <td>2.109482</td>\n",
       "      <td>2.351425</td>\n",
       "    </tr>\n",
       "    <tr>\n",
       "      <th>23</th>\n",
       "      <td>0.860946</td>\n",
       "      <td>2.161924</td>\n",
       "      <td>2.681847</td>\n",
       "    </tr>\n",
       "    <tr>\n",
       "      <th>24</th>\n",
       "      <td>1.328881</td>\n",
       "      <td>1.873493</td>\n",
       "      <td>-0.558595</td>\n",
       "    </tr>\n",
       "    <tr>\n",
       "      <th>25</th>\n",
       "      <td>1.071702</td>\n",
       "      <td>-0.761721</td>\n",
       "      <td>-0.522746</td>\n",
       "    </tr>\n",
       "    <tr>\n",
       "      <th>26</th>\n",
       "      <td>1.137622</td>\n",
       "      <td>-1.010821</td>\n",
       "      <td>-0.347107</td>\n",
       "    </tr>\n",
       "    <tr>\n",
       "      <th>27</th>\n",
       "      <td>1.566563</td>\n",
       "      <td>0.732878</td>\n",
       "      <td>-0.355038</td>\n",
       "    </tr>\n",
       "    <tr>\n",
       "      <th>28</th>\n",
       "      <td>1.997360</td>\n",
       "      <td>1.139304</td>\n",
       "      <td>-0.218914</td>\n",
       "    </tr>\n",
       "    <tr>\n",
       "      <th>29</th>\n",
       "      <td>2.053067</td>\n",
       "      <td>0.156015</td>\n",
       "      <td>-0.471968</td>\n",
       "    </tr>\n",
       "  </tbody>\n",
       "</table>\n",
       "</div>"
      ],
      "text/plain": [
       "    Oil Price  Qty MC205  Total Sales\n",
       "0   -2.055295  -0.696168    -0.531219\n",
       "1   -1.939240  -0.643726    -0.644479\n",
       "2   -1.353392  -0.224190    -0.673016\n",
       "3   -1.036793  -0.958379    -0.788741\n",
       "4   -0.554931   0.614883    -0.780464\n",
       "5   -0.392453  -0.696168    -0.722357\n",
       "6   -0.722979  -0.958379    -0.715384\n",
       "7   -0.653346  -0.289742    -0.714254\n",
       "8   -0.638491  -0.578174    -0.722989\n",
       "9   -0.243902  -0.643726    -0.742557\n",
       "10  -0.618065  -0.656837    -0.614879\n",
       "11   0.065270  -0.211079    -0.616294\n",
       "12   0.155329  -0.486400    -0.619869\n",
       "13   0.225890   2.293029    -0.421054\n",
       "14  -0.094423  -0.525732    -0.175308\n",
       "15   0.022561  -0.958379     0.049676\n",
       "16  -0.188195   0.156015     0.320570\n",
       "17  -0.533576  -0.905937     0.660890\n",
       "18  -0.395238  -0.578174     0.966522\n",
       "19  -0.183553  -0.617505     1.281110\n",
       "20   0.095908   0.680436     1.642132\n",
       "21   0.278812   0.483778     2.003061\n",
       "22   0.743962   2.109482     2.351425\n",
       "23   0.860946   2.161924     2.681847\n",
       "24   1.328881   1.873493    -0.558595\n",
       "25   1.071702  -0.761721    -0.522746\n",
       "26   1.137622  -1.010821    -0.347107\n",
       "27   1.566563   0.732878    -0.355038\n",
       "28   1.997360   1.139304    -0.218914\n",
       "29   2.053067   0.156015    -0.471968"
      ]
     },
     "execution_count": 9,
     "metadata": {},
     "output_type": "execute_result"
    }
   ],
   "source": [
    "dataset = pd.DataFrame({'Oil Price':data[:,0],'Total Sales':data[:,1],'Qty MC205':data[:,2]})\n",
    "dataset"
   ]
  },
  {
   "cell_type": "code",
   "execution_count": 10,
   "metadata": {},
   "outputs": [],
   "source": [
    "X = dataset[['Total Sales', 'Qty MC205']]"
   ]
  },
  {
   "cell_type": "code",
   "execution_count": 11,
   "metadata": {},
   "outputs": [],
   "source": [
    "y = dataset['Oil Price']"
   ]
  },
  {
   "cell_type": "code",
   "execution_count": 12,
   "metadata": {},
   "outputs": [],
   "source": [
    "#Train Test Split\n",
    "from sklearn.model_selection import train_test_split"
   ]
  },
  {
   "cell_type": "code",
   "execution_count": 13,
   "metadata": {},
   "outputs": [],
   "source": [
    "#This is using tuple unpacking to grab the training set and testing set\n",
    "#Test size is the percentage of the dataset that is allocated to the test. 30% is common\n",
    "#Random_state ensure random split on the data\n",
    "X_train, X_test, y_train, y_test = train_test_split(X, y, test_size=0.75, random_state=0)"
   ]
  },
  {
   "cell_type": "code",
   "execution_count": 14,
   "metadata": {},
   "outputs": [],
   "source": [
    "#Create and Train the Model\n",
    "from sklearn.linear_model import LinearRegression"
   ]
  },
  {
   "cell_type": "code",
   "execution_count": 15,
   "metadata": {},
   "outputs": [],
   "source": [
    "lm = LinearRegression()"
   ]
  },
  {
   "cell_type": "code",
   "execution_count": 16,
   "metadata": {},
   "outputs": [
    {
     "data": {
      "text/plain": [
       "LinearRegression(copy_X=True, fit_intercept=True, n_jobs=1, normalize=False)"
      ]
     },
     "execution_count": 16,
     "metadata": {},
     "output_type": "execute_result"
    }
   ],
   "source": [
    "lm.fit(X_train,y_train)"
   ]
  },
  {
   "cell_type": "code",
   "execution_count": 17,
   "metadata": {},
   "outputs": [
    {
     "name": "stdout",
     "output_type": "stream",
     "text": [
      "-0.339696951341\n"
     ]
    }
   ],
   "source": [
    "print(lm.intercept_)"
   ]
  },
  {
   "cell_type": "code",
   "execution_count": 18,
   "metadata": {},
   "outputs": [
    {
     "data": {
      "text/plain": [
       "array([ 0.3912255 , -0.16379057])"
      ]
     },
     "execution_count": 18,
     "metadata": {},
     "output_type": "execute_result"
    }
   ],
   "source": [
    "lm.coef_"
   ]
  },
  {
   "cell_type": "code",
   "execution_count": 19,
   "metadata": {},
   "outputs": [],
   "source": [
    "predictions = lm.predict(X_test)"
   ]
  },
  {
   "cell_type": "code",
   "execution_count": 30,
   "metadata": {},
   "outputs": [
    {
     "data": {
      "text/plain": [
       "<matplotlib.collections.PathCollection at 0x1b0d2269908>"
      ]
     },
     "execution_count": 30,
     "metadata": {},
     "output_type": "execute_result"
    },
    {
     "data": {
      "image/png": "[encoded data removed]",
      "text/plain": [
       "<matplotlib.figure.Figure at 0x1b0d24dfd30>"
      ]
     },
     "metadata": {},
     "output_type": "display_data"
    }
   ],
   "source": [
    "plt.scatter(y_test,predictions)"
   ]
  },
  {
   "cell_type": "code",
   "execution_count": 22,
   "metadata": {},
   "outputs": [],
   "source": [
    "writer = pd.ExcelWriter('LinearRegScaled',engine='xlsxwriter')"
   ]
  },
  {
   "cell_type": "code",
   "execution_count": 24,
   "metadata": {},
   "outputs": [],
   "source": [
    "dataset.to_excel(writer,sheet_name='Sheet 1')"
   ]
  },
  {
   "cell_type": "code",
   "execution_count": 26,
   "metadata": {},
   "outputs": [],
   "source": [
    "writer.save()"
   ]
  },
  {
   "cell_type": "code",
   "execution_count": null,
   "metadata": {},
   "outputs": [],
   "source": []
  }
 ],
 "metadata": {
  "kernelspec": {
   "display_name": "Python 3",
   "language": "python",
   "name": "python3"
  },
  "language_info": {
   "codemirror_mode": {
    "name": "ipython",
    "version": 3
   },
   "file_extension": ".py",
   "mimetype": "text/x-python",
   "name": "python",
   "nbconvert_exporter": "python",
   "pygments_lexer": "ipython3",
   "version": "3.6.3"
  }
 },
 "nbformat": 4,
 "nbformat_minor": 2
}
