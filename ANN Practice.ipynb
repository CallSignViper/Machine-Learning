{
 "cells": [
  {
   "cell_type": "markdown",
   "metadata": {},
   "source": [
    "Data Preprocessing"
   ]
  },
  {
   "cell_type": "code",
   "execution_count": 1,
   "metadata": {},
   "outputs": [],
   "source": [
    "# We are predicting if a customer will leave or stay with the bank"
   ]
  },
  {
   "cell_type": "code",
   "execution_count": 2,
   "metadata": {},
   "outputs": [],
   "source": [
    "import pandas as pd\n",
    "import numpy as np\n",
    "import matplotlib.pyplot as plt\n",
    "%matplotlib inline"
   ]
  },
  {
   "cell_type": "code",
   "execution_count": 3,
   "metadata": {},
   "outputs": [],
   "source": [
    "dataset = pd.read_csv('Churn_Modelling.csv')\n",
    "X = dataset.iloc[:,3:13].values\n",
    "y = dataset.iloc[:,13].values"
   ]
  },
  {
   "cell_type": "code",
   "execution_count": 4,
   "metadata": {},
   "outputs": [],
   "source": [
    "from sklearn.preprocessing import LabelEncoder, OneHotEncoder"
   ]
  },
  {
   "cell_type": "code",
   "execution_count": 5,
   "metadata": {},
   "outputs": [],
   "source": [
    "labelencoder_X_1 = LabelEncoder()\n",
    "X[:,1] = labelencoder_X_1.fit_transform(X[:,1])"
   ]
  },
  {
   "cell_type": "code",
   "execution_count": 6,
   "metadata": {},
   "outputs": [],
   "source": [
    "labelencoder_X_2 = LabelEncoder()\n",
    "X[:,2] = labelencoder_X_2.fit_transform(X[:,2])"
   ]
  },
  {
   "cell_type": "code",
   "execution_count": 7,
   "metadata": {},
   "outputs": [],
   "source": [
    "onehotencoder = OneHotEncoder(categorical_features= [1])\n",
    "X = onehotencoder.fit_transform(X).toarray()"
   ]
  },
  {
   "cell_type": "code",
   "execution_count": 8,
   "metadata": {},
   "outputs": [],
   "source": [
    "X = X[:,1:]"
   ]
  },
  {
   "cell_type": "code",
   "execution_count": 9,
   "metadata": {},
   "outputs": [],
   "source": [
    "from sklearn.model_selection import train_test_split\n",
    "X_train, X_test, y_train, y_test = train_test_split(X,y,test_size = .2, random_state = 0)"
   ]
  },
  {
   "cell_type": "code",
   "execution_count": 10,
   "metadata": {},
   "outputs": [],
   "source": [
    "from sklearn.preprocessing import StandardScaler\n",
    "sc_X = StandardScaler()\n",
    "X_train = sc_X.fit_transform(X_train)\n",
    "X_test = sc_X.transform(X_test)"
   ]
  },
  {
   "cell_type": "code",
   "execution_count": 11,
   "metadata": {},
   "outputs": [
    {
     "name": "stderr",
     "output_type": "stream",
     "text": [
      "C:\\Users\\rpark.CVC\\AppData\\Local\\Continuum\\anaconda3\\lib\\site-packages\\h5py\\__init__.py:34: FutureWarning: Conversion of the second argument of issubdtype from `float` to `np.floating` is deprecated. In future, it will be treated as `np.float64 == np.dtype(float).type`.\n",
      "  from ._conv import register_converters as _register_converters\n",
      "Using TensorFlow backend.\n"
     ]
    }
   ],
   "source": [
    "import keras"
   ]
  },
  {
   "cell_type": "code",
   "execution_count": 12,
   "metadata": {},
   "outputs": [],
   "source": [
    "from keras.models import  Sequential\n",
    "from keras.layers import Dense"
   ]
  },
  {
   "cell_type": "code",
   "execution_count": 13,
   "metadata": {},
   "outputs": [],
   "source": [
    "#Initialize the ANN\n",
    "classifer = Sequential()"
   ]
  },
  {
   "cell_type": "code",
   "execution_count": 14,
   "metadata": {},
   "outputs": [
    {
     "name": "stdout",
     "output_type": "stream",
     "text": [
      "WARNING:tensorflow:From C:\\Users\\rpark.CVC\\AppData\\Local\\Continuum\\anaconda3\\lib\\site-packages\\tensorflow\\python\\framework\\op_def_library.py:263: colocate_with (from tensorflow.python.framework.ops) is deprecated and will be removed in a future version.\n",
      "Instructions for updating:\n",
      "Colocations handled automatically by placer.\n"
     ]
    },
    {
     "name": "stderr",
     "output_type": "stream",
     "text": [
      "C:\\Users\\rpark.CVC\\AppData\\Local\\Continuum\\anaconda3\\lib\\site-packages\\ipykernel_launcher.py:2: UserWarning: Update your `Dense` call to the Keras 2 API: `Dense(activation=\"relu\", input_dim=11, units=6, kernel_initializer=\"uniform\")`\n",
      "  \n"
     ]
    }
   ],
   "source": [
    "# Adding the input layer and the first hidden layer\n",
    "classifer.add(Dense(output_dim=6, init = 'uniform', activation='relu',input_dim = 11))"
   ]
  },
  {
   "cell_type": "code",
   "execution_count": 15,
   "metadata": {},
   "outputs": [
    {
     "name": "stderr",
     "output_type": "stream",
     "text": [
      "C:\\Users\\rpark.CVC\\AppData\\Local\\Continuum\\anaconda3\\lib\\site-packages\\ipykernel_launcher.py:2: UserWarning: Update your `Dense` call to the Keras 2 API: `Dense(activation=\"relu\", input_dim=11, units=6, kernel_initializer=\"uniform\")`\n",
      "  \n"
     ]
    }
   ],
   "source": [
    "#the first hidden layer\n",
    "classifer.add(Dense(output_dim=6, init = 'uniform', activation='relu',input_dim = 11))"
   ]
  },
  {
   "cell_type": "code",
   "execution_count": 22,
   "metadata": {},
   "outputs": [
    {
     "name": "stderr",
     "output_type": "stream",
     "text": [
      "C:\\Users\\rpark.CVC\\AppData\\Local\\Continuum\\anaconda3\\lib\\site-packages\\ipykernel_launcher.py:2: UserWarning: Update your `Dense` call to the Keras 2 API: `Dense(activation=\"sigmoid\", units=1, kernel_initializer=\"uniform\")`\n",
      "  \n"
     ]
    }
   ],
   "source": [
    "#the output layer - > classification problems and binary output have only one layer\n",
    "classifer.add(Dense(output_dim=1, init = 'uniform', activation='sigmoid'))"
   ]
  },
  {
   "cell_type": "code",
   "execution_count": 23,
   "metadata": {},
   "outputs": [],
   "source": [
    "classifer.compile(optimizer = 'adam', loss = 'binary_crossentropy', metrics = ['accuracy'])"
   ]
  },
  {
   "cell_type": "code",
   "execution_count": 24,
   "metadata": {},
   "outputs": [
    {
     "name": "stdout",
     "output_type": "stream",
     "text": [
      "WARNING:tensorflow:From C:\\Users\\rpark.CVC\\AppData\\Local\\Continuum\\anaconda3\\lib\\site-packages\\tensorflow\\python\\ops\\math_ops.py:3066: to_int32 (from tensorflow.python.ops.math_ops) is deprecated and will be removed in a future version.\n",
      "Instructions for updating:\n",
      "Use tf.cast instead.\n"
     ]
    },
    {
     "name": "stderr",
     "output_type": "stream",
     "text": [
      "C:\\Users\\rpark.CVC\\AppData\\Local\\Continuum\\anaconda3\\lib\\site-packages\\ipykernel_launcher.py:1: UserWarning: The `nb_epoch` argument in `fit` has been renamed `epochs`.\n",
      "  \"\"\"Entry point for launching an IPython kernel.\n"
     ]
    },
    {
     "name": "stdout",
     "output_type": "stream",
     "text": [
      "Epoch 1/100\n",
      "8000/8000 [==============================] - 1s 167us/step - loss: 0.4803 - acc: 0.7960\n",
      "Epoch 2/100\n",
      "8000/8000 [==============================] - 1s 102us/step - loss: 0.4289 - acc: 0.7960\n",
      "Epoch 3/100\n",
      "8000/8000 [==============================] - 1s 123us/step - loss: 0.4229 - acc: 0.7960 0s - loss: 0.4251 - acc: 0.79\n",
      "Epoch 4/100\n",
      "8000/8000 [==============================] - 1s 150us/step - loss: 0.4181 - acc: 0.8206\n",
      "Epoch 5/100\n",
      "8000/8000 [==============================] - 1s 131us/step - loss: 0.4163 - acc: 0.8282\n",
      "Epoch 6/100\n",
      "8000/8000 [==============================] - 1s 163us/step - loss: 0.4143 - acc: 0.8306\n",
      "Epoch 7/100\n",
      "8000/8000 [==============================] - 1s 172us/step - loss: 0.4131 - acc: 0.8316\n",
      "Epoch 8/100\n",
      "8000/8000 [==============================] - 1s 176us/step - loss: 0.4120 - acc: 0.8319\n",
      "Epoch 9/100\n",
      "8000/8000 [==============================] - 1s 163us/step - loss: 0.4110 - acc: 0.8326\n",
      "Epoch 10/100\n",
      "8000/8000 [==============================] - 1s 158us/step - loss: 0.4098 - acc: 0.8332\n",
      "Epoch 11/100\n",
      "8000/8000 [==============================] - 1s 166us/step - loss: 0.4094 - acc: 0.8336\n",
      "Epoch 12/100\n",
      "8000/8000 [==============================] - 1s 161us/step - loss: 0.4086 - acc: 0.8347\n",
      "Epoch 13/100\n",
      "8000/8000 [==============================] - 1s 168us/step - loss: 0.4080 - acc: 0.8346\n",
      "Epoch 14/100\n",
      "8000/8000 [==============================] - 1s 167us/step - loss: 0.4070 - acc: 0.8340\n",
      "Epoch 15/100\n",
      "8000/8000 [==============================] - 1s 173us/step - loss: 0.4066 - acc: 0.8342\n",
      "Epoch 16/100\n",
      "8000/8000 [==============================] - 1s 161us/step - loss: 0.4064 - acc: 0.8336\n",
      "Epoch 17/100\n",
      "8000/8000 [==============================] - 1s 177us/step - loss: 0.4059 - acc: 0.8352\n",
      "Epoch 18/100\n",
      "8000/8000 [==============================] - 1s 159us/step - loss: 0.4055 - acc: 0.8346\n",
      "Epoch 19/100\n",
      "8000/8000 [==============================] - 1s 175us/step - loss: 0.4053 - acc: 0.8357\n",
      "Epoch 20/100\n",
      "8000/8000 [==============================] - 1s 173us/step - loss: 0.4043 - acc: 0.8349\n",
      "Epoch 21/100\n",
      "8000/8000 [==============================] - 1s 173us/step - loss: 0.4051 - acc: 0.8342\n",
      "Epoch 22/100\n",
      "8000/8000 [==============================] - 1s 156us/step - loss: 0.4048 - acc: 0.8354\n",
      "Epoch 23/100\n",
      "8000/8000 [==============================] - 1s 156us/step - loss: 0.4044 - acc: 0.8347\n",
      "Epoch 24/100\n",
      "8000/8000 [==============================] - 1s 152us/step - loss: 0.4039 - acc: 0.8360\n",
      "Epoch 25/100\n",
      "8000/8000 [==============================] - 1s 163us/step - loss: 0.4041 - acc: 0.8337\n",
      "Epoch 26/100\n",
      "8000/8000 [==============================] - 1s 168us/step - loss: 0.4033 - acc: 0.8347\n",
      "Epoch 27/100\n",
      "8000/8000 [==============================] - 1s 167us/step - loss: 0.4035 - acc: 0.8341\n",
      "Epoch 28/100\n",
      "8000/8000 [==============================] - 1s 162us/step - loss: 0.4038 - acc: 0.8350\n",
      "Epoch 29/100\n",
      "8000/8000 [==============================] - 1s 160us/step - loss: 0.4031 - acc: 0.8341\n",
      "Epoch 30/100\n",
      "8000/8000 [==============================] - 2s 227us/step - loss: 0.4037 - acc: 0.8346\n",
      "Epoch 31/100\n",
      "8000/8000 [==============================] - 2s 197us/step - loss: 0.4032 - acc: 0.8344\n",
      "Epoch 32/100\n",
      "8000/8000 [==============================] - 1s 158us/step - loss: 0.4029 - acc: 0.8347\n",
      "Epoch 33/100\n",
      "8000/8000 [==============================] - 1s 168us/step - loss: 0.4029 - acc: 0.8352\n",
      "Epoch 34/100\n",
      "8000/8000 [==============================] - 1s 155us/step - loss: 0.4029 - acc: 0.8355\n",
      "Epoch 35/100\n",
      "8000/8000 [==============================] - 1s 156us/step - loss: 0.4026 - acc: 0.8362\n",
      "Epoch 36/100\n",
      "8000/8000 [==============================] - 1s 160us/step - loss: 0.4031 - acc: 0.8356\n",
      "Epoch 37/100\n",
      "8000/8000 [==============================] - 1s 156us/step - loss: 0.4021 - acc: 0.8345\n",
      "Epoch 38/100\n",
      "8000/8000 [==============================] - 1s 157us/step - loss: 0.4031 - acc: 0.8347\n",
      "Epoch 39/100\n",
      "8000/8000 [==============================] - 1s 164us/step - loss: 0.4023 - acc: 0.8357\n",
      "Epoch 40/100\n",
      "8000/8000 [==============================] - 1s 164us/step - loss: 0.4025 - acc: 0.8345\n",
      "Epoch 41/100\n",
      "8000/8000 [==============================] - 1s 164us/step - loss: 0.4023 - acc: 0.8352\n",
      "Epoch 42/100\n",
      "8000/8000 [==============================] - 1s 162us/step - loss: 0.4025 - acc: 0.8356\n",
      "Epoch 43/100\n",
      "8000/8000 [==============================] - 2s 239us/step - loss: 0.4027 - acc: 0.8352\n",
      "Epoch 44/100\n",
      "8000/8000 [==============================] - 1s 160us/step - loss: 0.4022 - acc: 0.8321\n",
      "Epoch 45/100\n",
      "8000/8000 [==============================] - 1s 181us/step - loss: 0.4016 - acc: 0.8341\n",
      "Epoch 46/100\n",
      "8000/8000 [==============================] - 1s 165us/step - loss: 0.4024 - acc: 0.8347\n",
      "Epoch 47/100\n",
      "8000/8000 [==============================] - 1s 176us/step - loss: 0.4014 - acc: 0.8345\n",
      "Epoch 48/100\n",
      "8000/8000 [==============================] - 1s 177us/step - loss: 0.4023 - acc: 0.8342\n",
      "Epoch 49/100\n",
      "8000/8000 [==============================] - 1s 171us/step - loss: 0.4020 - acc: 0.8340\n",
      "Epoch 50/100\n",
      "8000/8000 [==============================] - 1s 113us/step - loss: 0.4020 - acc: 0.8342\n",
      "Epoch 51/100\n",
      "8000/8000 [==============================] - 1s 139us/step - loss: 0.4014 - acc: 0.8371\n",
      "Epoch 52/100\n",
      "8000/8000 [==============================] - 1s 153us/step - loss: 0.4021 - acc: 0.8329\n",
      "Epoch 53/100\n",
      "8000/8000 [==============================] - 1s 121us/step - loss: 0.4025 - acc: 0.8332\n",
      "Epoch 54/100\n",
      "8000/8000 [==============================] - 1s 127us/step - loss: 0.4020 - acc: 0.8350\n",
      "Epoch 55/100\n",
      "8000/8000 [==============================] - 1s 174us/step - loss: 0.4017 - acc: 0.8342\n",
      "Epoch 56/100\n",
      "8000/8000 [==============================] - 1s 113us/step - loss: 0.4020 - acc: 0.8344\n",
      "Epoch 57/100\n",
      "8000/8000 [==============================] - 2s 205us/step - loss: 0.4022 - acc: 0.8341\n",
      "Epoch 58/100\n",
      "8000/8000 [==============================] - 1s 177us/step - loss: 0.4018 - acc: 0.8346\n",
      "Epoch 59/100\n",
      "8000/8000 [==============================] - 1s 112us/step - loss: 0.4022 - acc: 0.8349\n",
      "Epoch 60/100\n",
      "8000/8000 [==============================] - 1s 127us/step - loss: 0.4021 - acc: 0.8355\n",
      "Epoch 61/100\n",
      "8000/8000 [==============================] - 1s 124us/step - loss: 0.4015 - acc: 0.8350\n",
      "Epoch 62/100\n",
      "8000/8000 [==============================] - 1s 122us/step - loss: 0.4017 - acc: 0.8356\n",
      "Epoch 63/100\n",
      "8000/8000 [==============================] - 2s 188us/step - loss: 0.4018 - acc: 0.8347\n",
      "Epoch 64/100\n",
      "8000/8000 [==============================] - 1s 147us/step - loss: 0.4019 - acc: 0.8349\n",
      "Epoch 65/100\n",
      "8000/8000 [==============================] - 1s 111us/step - loss: 0.4018 - acc: 0.8341\n",
      "Epoch 66/100\n",
      "8000/8000 [==============================] - 1s 109us/step - loss: 0.4012 - acc: 0.8340\n",
      "Epoch 67/100\n",
      "8000/8000 [==============================] - 1s 109us/step - loss: 0.4014 - acc: 0.8335\n",
      "Epoch 68/100\n",
      "8000/8000 [==============================] - 1s 109us/step - loss: 0.4018 - acc: 0.8355\n",
      "Epoch 69/100\n",
      "8000/8000 [==============================] - 1s 109us/step - loss: 0.4015 - acc: 0.8359\n",
      "Epoch 70/100\n",
      "8000/8000 [==============================] - 1s 109us/step - loss: 0.4017 - acc: 0.8349\n",
      "Epoch 71/100\n",
      "8000/8000 [==============================] - 1s 104us/step - loss: 0.4016 - acc: 0.8355\n",
      "Epoch 72/100\n",
      "8000/8000 [==============================] - 1s 108us/step - loss: 0.4017 - acc: 0.8352\n",
      "Epoch 73/100\n",
      "8000/8000 [==============================] - 1s 108us/step - loss: 0.4017 - acc: 0.8342\n",
      "Epoch 74/100\n",
      "8000/8000 [==============================] - 1s 112us/step - loss: 0.4015 - acc: 0.8341\n",
      "Epoch 75/100\n",
      "8000/8000 [==============================] - 1s 108us/step - loss: 0.4019 - acc: 0.8351 0s - loss: 0.4022 - acc: 0.835\n",
      "Epoch 76/100\n",
      "8000/8000 [==============================] - 1s 107us/step - loss: 0.4017 - acc: 0.8339\n",
      "Epoch 77/100\n",
      "8000/8000 [==============================] - 1s 109us/step - loss: 0.4016 - acc: 0.8355 0s - loss: 0.402\n",
      "Epoch 78/100\n",
      "8000/8000 [==============================] - 1s 108us/step - loss: 0.4011 - acc: 0.8355\n",
      "Epoch 79/100\n",
      "8000/8000 [==============================] - 1s 111us/step - loss: 0.4020 - acc: 0.8345\n",
      "Epoch 80/100\n",
      "8000/8000 [==============================] - 1s 108us/step - loss: 0.4014 - acc: 0.8350\n",
      "Epoch 81/100\n"
     ]
    },
    {
     "name": "stdout",
     "output_type": "stream",
     "text": [
      "8000/8000 [==============================] - 1s 97us/step - loss: 0.4014 - acc: 0.8350\n",
      "Epoch 82/100\n",
      "8000/8000 [==============================] - 1s 91us/step - loss: 0.4012 - acc: 0.8346\n",
      "Epoch 83/100\n",
      "8000/8000 [==============================] - 1s 94us/step - loss: 0.4014 - acc: 0.8360\n",
      "Epoch 84/100\n",
      "8000/8000 [==============================] - 1s 102us/step - loss: 0.4017 - acc: 0.8359\n",
      "Epoch 85/100\n",
      "8000/8000 [==============================] - 1s 93us/step - loss: 0.4013 - acc: 0.8357\n",
      "Epoch 86/100\n",
      "8000/8000 [==============================] - 1s 93us/step - loss: 0.4014 - acc: 0.8347: 0s - loss: 0.4044 - acc: 0.\n",
      "Epoch 87/100\n",
      "8000/8000 [==============================] - 1s 97us/step - loss: 0.4014 - acc: 0.8359: 0s - loss: 0.4062 - acc\n",
      "Epoch 88/100\n",
      "8000/8000 [==============================] - 1s 94us/step - loss: 0.4014 - acc: 0.8344\n",
      "Epoch 89/100\n",
      "8000/8000 [==============================] - 1s 96us/step - loss: 0.4016 - acc: 0.8351\n",
      "Epoch 90/100\n",
      "8000/8000 [==============================] - 1s 92us/step - loss: 0.4015 - acc: 0.8349\n",
      "Epoch 91/100\n",
      "8000/8000 [==============================] - 1s 98us/step - loss: 0.4013 - acc: 0.8355\n",
      "Epoch 92/100\n",
      "8000/8000 [==============================] - 1s 97us/step - loss: 0.4014 - acc: 0.8344\n",
      "Epoch 93/100\n",
      "8000/8000 [==============================] - 1s 93us/step - loss: 0.4014 - acc: 0.8359\n",
      "Epoch 94/100\n",
      "8000/8000 [==============================] - 1s 97us/step - loss: 0.4012 - acc: 0.8330\n",
      "Epoch 95/100\n",
      "8000/8000 [==============================] - 1s 96us/step - loss: 0.4015 - acc: 0.8350\n",
      "Epoch 96/100\n",
      "8000/8000 [==============================] - 1s 99us/step - loss: 0.4010 - acc: 0.8355\n",
      "Epoch 97/100\n",
      "8000/8000 [==============================] - 1s 97us/step - loss: 0.4014 - acc: 0.8361\n",
      "Epoch 98/100\n",
      "8000/8000 [==============================] - 1s 95us/step - loss: 0.4010 - acc: 0.8365\n",
      "Epoch 99/100\n",
      "8000/8000 [==============================] - 1s 97us/step - loss: 0.4010 - acc: 0.8360: 0s - loss: 0.3913 - acc: \n",
      "Epoch 100/100\n",
      "8000/8000 [==============================] - 1s 97us/step - loss: 0.4013 - acc: 0.8351\n"
     ]
    },
    {
     "data": {
      "text/plain": [
       "<keras.callbacks.History at 0x24da85b12e8>"
      ]
     },
     "execution_count": 24,
     "metadata": {},
     "output_type": "execute_result"
    }
   ],
   "source": [
    "classifer.fit(X_train, y_train,batch_size = 10, nb_epoch = 100)"
   ]
  },
  {
   "cell_type": "code",
   "execution_count": 27,
   "metadata": {},
   "outputs": [],
   "source": [
    "y_pred = classifer.predict(X_test)\n",
    "y_pred = (y_pred > .5)"
   ]
  },
  {
   "cell_type": "code",
   "execution_count": 31,
   "metadata": {},
   "outputs": [
    {
     "data": {
      "text/plain": [
       "array([[1538,   57],\n",
       "       [ 254,  151]], dtype=int64)"
      ]
     },
     "execution_count": 31,
     "metadata": {},
     "output_type": "execute_result"
    }
   ],
   "source": [
    "from sklearn.metrics import confusion_matrix\n",
    "cm = confusion_matrix(y_test, y_pred)\n",
    "cm"
   ]
  },
  {
   "cell_type": "code",
   "execution_count": 34,
   "metadata": {},
   "outputs": [
    {
     "data": {
      "text/plain": [
       "0.8445"
      ]
     },
     "execution_count": 34,
     "metadata": {},
     "output_type": "execute_result"
    }
   ],
   "source": [
    "accuracy = (1538+151)/2000\n",
    "accuracy"
   ]
  },
  {
   "cell_type": "markdown",
   "metadata": {},
   "source": [
    "###### "
   ]
  }
 ],
 "metadata": {
  "kernelspec": {
   "display_name": "Python 3",
   "language": "python",
   "name": "python3"
  },
  "language_info": {
   "codemirror_mode": {
    "name": "ipython",
    "version": 3
   },
   "file_extension": ".py",
   "mimetype": "text/x-python",
   "name": "python",
   "nbconvert_exporter": "python",
   "pygments_lexer": "ipython3",
   "version": "3.6.3"
  }
 },
 "nbformat": 4,
 "nbformat_minor": 2
}
