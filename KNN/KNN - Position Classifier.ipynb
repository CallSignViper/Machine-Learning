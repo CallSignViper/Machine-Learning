{
 "cells": [
  {
   "cell_type": "code",
   "execution_count": 1,
   "metadata": {},
   "outputs": [],
   "source": [
    "import pandas as pd\n",
    "import numpy as np\n",
    "from sklearn import preprocessing, model_selection, neighbors\n",
    "import pandas as pd"
   ]
  },
  {
   "cell_type": "code",
   "execution_count": 2,
   "metadata": {},
   "outputs": [],
   "source": [
    "df = pd.read_excel('Position Classifier.xlsm',sheetname='KNN Practice')"
   ]
  },
  {
   "cell_type": "code",
   "execution_count": 3,
   "metadata": {},
   "outputs": [
    {
     "data": {
      "text/html": [
       "<div>\n",
       "<style>\n",
       "    .dataframe thead tr:only-child th {\n",
       "        text-align: right;\n",
       "    }\n",
       "\n",
       "    .dataframe thead th {\n",
       "        text-align: left;\n",
       "    }\n",
       "\n",
       "    .dataframe tbody tr th {\n",
       "        vertical-align: top;\n",
       "    }\n",
       "</style>\n",
       "<table border=\"1\" class=\"dataframe\">\n",
       "  <thead>\n",
       "    <tr style=\"text-align: right;\">\n",
       "      <th></th>\n",
       "      <th>Total Touches</th>\n",
       "      <th>Total Yards</th>\n",
       "    </tr>\n",
       "  </thead>\n",
       "  <tbody>\n",
       "    <tr>\n",
       "      <th>count</th>\n",
       "      <td>219.000000</td>\n",
       "      <td>219.000000</td>\n",
       "    </tr>\n",
       "    <tr>\n",
       "      <th>mean</th>\n",
       "      <td>79.200913</td>\n",
       "      <td>461.785388</td>\n",
       "    </tr>\n",
       "    <tr>\n",
       "      <th>std</th>\n",
       "      <td>84.431101</td>\n",
       "      <td>445.825844</td>\n",
       "    </tr>\n",
       "    <tr>\n",
       "      <th>min</th>\n",
       "      <td>1.000000</td>\n",
       "      <td>-14.000000</td>\n",
       "    </tr>\n",
       "    <tr>\n",
       "      <th>25%</th>\n",
       "      <td>19.000000</td>\n",
       "      <td>81.500000</td>\n",
       "    </tr>\n",
       "    <tr>\n",
       "      <th>50%</th>\n",
       "      <td>53.000000</td>\n",
       "      <td>322.000000</td>\n",
       "    </tr>\n",
       "    <tr>\n",
       "      <th>75%</th>\n",
       "      <td>99.500000</td>\n",
       "      <td>744.000000</td>\n",
       "    </tr>\n",
       "    <tr>\n",
       "      <th>max</th>\n",
       "      <td>406.000000</td>\n",
       "      <td>2093.000000</td>\n",
       "    </tr>\n",
       "  </tbody>\n",
       "</table>\n",
       "</div>"
      ],
      "text/plain": [
       "       Total Touches  Total Yards\n",
       "count     219.000000   219.000000\n",
       "mean       79.200913   461.785388\n",
       "std        84.431101   445.825844\n",
       "min         1.000000   -14.000000\n",
       "25%        19.000000    81.500000\n",
       "50%        53.000000   322.000000\n",
       "75%        99.500000   744.000000\n",
       "max       406.000000  2093.000000"
      ]
     },
     "execution_count": 3,
     "metadata": {},
     "output_type": "execute_result"
    }
   ],
   "source": [
    "df.describe()"
   ]
  },
  {
   "cell_type": "code",
   "execution_count": 4,
   "metadata": {},
   "outputs": [
    {
     "name": "stdout",
     "output_type": "stream",
     "text": [
      "<class 'pandas.core.frame.DataFrame'>\n",
      "RangeIndex: 219 entries, 0 to 218\n",
      "Data columns (total 3 columns):\n",
      "Total Touches    219 non-null int64\n",
      "Total Yards      219 non-null int64\n",
      "Position         219 non-null object\n",
      "dtypes: int64(2), object(1)\n",
      "memory usage: 5.2+ KB\n"
     ]
    }
   ],
   "source": [
    "df.info()"
   ]
  },
  {
   "cell_type": "code",
   "execution_count": 5,
   "metadata": {},
   "outputs": [
    {
     "data": {
      "text/html": [
       "<div>\n",
       "<style>\n",
       "    .dataframe thead tr:only-child th {\n",
       "        text-align: right;\n",
       "    }\n",
       "\n",
       "    .dataframe thead th {\n",
       "        text-align: left;\n",
       "    }\n",
       "\n",
       "    .dataframe tbody tr th {\n",
       "        vertical-align: top;\n",
       "    }\n",
       "</style>\n",
       "<table border=\"1\" class=\"dataframe\">\n",
       "  <thead>\n",
       "    <tr style=\"text-align: right;\">\n",
       "      <th></th>\n",
       "      <th>Total Touches</th>\n",
       "      <th>Total Yards</th>\n",
       "      <th>Position</th>\n",
       "    </tr>\n",
       "  </thead>\n",
       "  <tbody>\n",
       "    <tr>\n",
       "      <th>0</th>\n",
       "      <td>406</td>\n",
       "      <td>1946</td>\n",
       "      <td>RB</td>\n",
       "    </tr>\n",
       "    <tr>\n",
       "      <th>1</th>\n",
       "      <td>346</td>\n",
       "      <td>1586</td>\n",
       "      <td>RB</td>\n",
       "    </tr>\n",
       "    <tr>\n",
       "      <th>2</th>\n",
       "      <td>342</td>\n",
       "      <td>1581</td>\n",
       "      <td>RB</td>\n",
       "    </tr>\n",
       "    <tr>\n",
       "      <th>3</th>\n",
       "      <td>343</td>\n",
       "      <td>2093</td>\n",
       "      <td>RB</td>\n",
       "    </tr>\n",
       "    <tr>\n",
       "      <th>4</th>\n",
       "      <td>299</td>\n",
       "      <td>1247</td>\n",
       "      <td>RB</td>\n",
       "    </tr>\n",
       "  </tbody>\n",
       "</table>\n",
       "</div>"
      ],
      "text/plain": [
       "   Total Touches  Total Yards Position\n",
       "0            406         1946       RB\n",
       "1            346         1586       RB\n",
       "2            342         1581       RB\n",
       "3            343         2093       RB\n",
       "4            299         1247       RB"
      ]
     },
     "execution_count": 5,
     "metadata": {},
     "output_type": "execute_result"
    }
   ],
   "source": [
    "df.head()"
   ]
  },
  {
   "cell_type": "code",
   "execution_count": 6,
   "metadata": {},
   "outputs": [
    {
     "data": {
      "text/plain": [
       "array(['RB', 'QB', 'WR', 'FB', 'CB', 'TE', 'P', 'K', 'RDT'], dtype=object)"
      ]
     },
     "execution_count": 6,
     "metadata": {},
     "output_type": "execute_result"
    }
   ],
   "source": [
    "df['Position'].unique()"
   ]
  },
  {
   "cell_type": "code",
   "execution_count": 7,
   "metadata": {},
   "outputs": [
    {
     "data": {
      "text/plain": [
       "9"
      ]
     },
     "execution_count": 7,
     "metadata": {},
     "output_type": "execute_result"
    }
   ],
   "source": [
    "df['Position'].nunique()"
   ]
  },
  {
   "cell_type": "code",
   "execution_count": 8,
   "metadata": {},
   "outputs": [],
   "source": [
    "def classify_position(position):\n",
    "    if position == 'RB':\n",
    "        return 1\n",
    "    elif position =='WR':\n",
    "        return 2\n",
    "    elif position == 'QB':\n",
    "        return 3\n",
    "    elif position == 'FB':\n",
    "        return 4\n",
    "    elif position == 'CB':\n",
    "        return 5\n",
    "    elif position == 'TE':\n",
    "        return 6\n",
    "    elif position == 'P':\n",
    "        return 7\n",
    "    elif position == 'K':\n",
    "        return 8\n",
    "    else:\n",
    "        return 10"
   ]
  },
  {
   "cell_type": "code",
   "execution_count": 9,
   "metadata": {},
   "outputs": [],
   "source": [
    "df['Position'] = df['Position'].apply(classify_position)"
   ]
  },
  {
   "cell_type": "code",
   "execution_count": 10,
   "metadata": {},
   "outputs": [
    {
     "data": {
      "text/plain": [
       "Index(['Total Touches', 'Total Yards', 'Position'], dtype='object')"
      ]
     },
     "execution_count": 10,
     "metadata": {},
     "output_type": "execute_result"
    }
   ],
   "source": [
    "df.columns"
   ]
  },
  {
   "cell_type": "code",
   "execution_count": 11,
   "metadata": {},
   "outputs": [],
   "source": [
    "X = np.array(df.drop(['Position'],1))\n",
    "y = np.array(df['Position'])"
   ]
  },
  {
   "cell_type": "code",
   "execution_count": 20,
   "metadata": {},
   "outputs": [
    {
     "data": {
      "text/plain": [
       "array([[ 406, 1946],\n",
       "       [ 346, 1586],\n",
       "       [ 342, 1581],\n",
       "       [ 343, 2093],\n",
       "       [ 299, 1247],\n",
       "       [ 325, 1782],\n",
       "       [ 304, 1342],\n",
       "       [ 290, 1206],\n",
       "       [ 273, 1231],\n",
       "       [ 268, 1252],\n",
       "       [ 299, 1288],\n",
       "       [ 274, 1215],\n",
       "       [ 288, 1540],\n",
       "       [ 231,  945],\n",
       "       [ 237, 1160],\n",
       "       [ 227, 1042],\n",
       "       [ 234, 1035],\n",
       "       [ 206,  732],\n",
       "       [ 232, 1182],\n",
       "       [ 223,  925],\n",
       "       [ 235, 1110],\n",
       "       [ 208,  913],\n",
       "       [ 201,  942],\n",
       "       [ 187,  880],\n",
       "       [ 199,  785],\n",
       "       [ 181,  816],\n",
       "       [ 190,  867],\n",
       "       [ 198,  714],\n",
       "       [ 183,  927],\n",
       "       [ 178,  818],\n",
       "       [ 213,  991],\n",
       "       [ 139,  754],\n",
       "       [ 147,  490],\n",
       "       [ 172,  883],\n",
       "       [ 212, 1554],\n",
       "       [ 167,  519],\n",
       "       [ 222, 1086],\n",
       "       [ 122,  592],\n",
       "       [ 133,  557],\n",
       "       [ 145,  669],\n",
       "       [ 124,  537],\n",
       "       [ 149,  847],\n",
       "       [ 105,  398],\n",
       "       [ 140,  674],\n",
       "       [  95,  586],\n",
       "       [ 110,  492],\n",
       "       [ 195,  723],\n",
       "       [ 137,  730],\n",
       "       [  84,  427],\n",
       "       [  90,  470],\n",
       "       [  85,  410],\n",
       "       [  77,  419],\n",
       "       [  85,  444],\n",
       "       [  94,  446],\n",
       "       [  75,  226],\n",
       "       [  83,  371],\n",
       "       [  95,  518],\n",
       "       [  84,  318],\n",
       "       [ 111,  804],\n",
       "       [  64,  299],\n",
       "       [  63,  260],\n",
       "       [  72,  299],\n",
       "       [  67,  212],\n",
       "       [  60,  312],\n",
       "       [  60,  355],\n",
       "       [  85,  317],\n",
       "       [  67,  251],\n",
       "       [  57,  322],\n",
       "       [  57,  357],\n",
       "       [ 117,  531],\n",
       "       [  75,  434],\n",
       "       [  56,  267],\n",
       "       [  49,  179],\n",
       "       [  64,  277],\n",
       "       [  80,  453],\n",
       "       [  67,  336],\n",
       "       [  50,  157],\n",
       "       [  99,  600],\n",
       "       [  49,  136],\n",
       "       [  41,  248],\n",
       "       [  40,  160],\n",
       "       [  41,  161],\n",
       "       [  38,   99],\n",
       "       [  41,  132],\n",
       "       [  37,  124],\n",
       "       [  37,  280],\n",
       "       [  36,  269],\n",
       "       [  33,   12],\n",
       "       [  33,  135],\n",
       "       [  32,  143],\n",
       "       [  31,  127],\n",
       "       [  29,   98],\n",
       "       [  28,   51],\n",
       "       [  28,   47],\n",
       "       [  26,  136],\n",
       "       [  26,  108],\n",
       "       [  25,   28],\n",
       "       [  25,   54],\n",
       "       [  24,  126],\n",
       "       [  23,   66],\n",
       "       [  23,   82],\n",
       "       [  32,  109],\n",
       "       [  19,   32],\n",
       "       [  18,   -2],\n",
       "       [ 117, 1242],\n",
       "       [  58,  113],\n",
       "       [  16,   76],\n",
       "       [  16,    5],\n",
       "       [  14,   64],\n",
       "       [  14,   12],\n",
       "       [  21,   87],\n",
       "       [  74,  663],\n",
       "       [  63,  430],\n",
       "       [  12,   26],\n",
       "       [  11,    3],\n",
       "       [  17,   90],\n",
       "       [  87,  826],\n",
       "       [  10,   71],\n",
       "       [ 128,  613],\n",
       "       [  75,  670],\n",
       "       [  74, 1122],\n",
       "       [   9,   -2],\n",
       "       [   9,    7],\n",
       "       [  72,  862],\n",
       "       [  41,  427],\n",
       "       [   8,  -10],\n",
       "       [  24,  274],\n",
       "       [ 100,  823],\n",
       "       [  14,   81],\n",
       "       [  40,  346],\n",
       "       [   9,   36],\n",
       "       [   7,   10],\n",
       "       [   7,   23],\n",
       "       [   7,   55],\n",
       "       [  22,  109],\n",
       "       [  65,  625],\n",
       "       [  11,   47],\n",
       "       [   8,   59],\n",
       "       [  12,   48],\n",
       "       [  64,   55],\n",
       "       [   5,   30],\n",
       "       [  12,   52],\n",
       "       [ 101, 1025],\n",
       "       [   5,   51],\n",
       "       [   6,   17],\n",
       "       [   4,    4],\n",
       "       [  60, 1006],\n",
       "       [  29,  179],\n",
       "       [  71,  713],\n",
       "       [   4,    2],\n",
       "       [  63,  735],\n",
       "       [   4,   12],\n",
       "       [  66,  950],\n",
       "       [  37,  347],\n",
       "       [  37,  456],\n",
       "       [  53,  706],\n",
       "       [   3,    9],\n",
       "       [  32,  545],\n",
       "       [   5,    6],\n",
       "       [  37,  292],\n",
       "       [  46,  560],\n",
       "       [   4,   26],\n",
       "       [ 104, 1402],\n",
       "       [  77,  983],\n",
       "       [   2,   -3],\n",
       "       [   4,   28],\n",
       "       [  10,   26],\n",
       "       [   2,    4],\n",
       "       [  39,  432],\n",
       "       [  85, 1045],\n",
       "       [   2,  -14],\n",
       "       [  20,  243],\n",
       "       [   8,   65],\n",
       "       [   2,   15],\n",
       "       [  33,  239],\n",
       "       [  18,   98],\n",
       "       [  22,  221],\n",
       "       [   8,   44],\n",
       "       [   2,    2],\n",
       "       [  76,  805],\n",
       "       [   5,   64],\n",
       "       [  17,   92],\n",
       "       [  55,  583],\n",
       "       [  58,  793],\n",
       "       [  63,  775],\n",
       "       [  27,  310],\n",
       "       [  25,  382],\n",
       "       [   1,    0],\n",
       "       [  22,  309],\n",
       "       [  70,  834],\n",
       "       [  19,  117],\n",
       "       [  49,  684],\n",
       "       [  78,   90],\n",
       "       [  36,  488],\n",
       "       [  13,  201],\n",
       "       [  65,  736],\n",
       "       [  17,  257],\n",
       "       [  29,  486],\n",
       "       [  28,  316],\n",
       "       [  17,  117],\n",
       "       [   5,   47],\n",
       "       [  68,  637],\n",
       "       [   1,   24],\n",
       "       [  89, 1459],\n",
       "       [   2,    2],\n",
       "       [ 125,  980],\n",
       "       [  62,  719],\n",
       "       [   1,    4],\n",
       "       [  54,  792],\n",
       "       [  23,  163],\n",
       "       [  33,  387],\n",
       "       [   1,   10],\n",
       "       [   1,   12],\n",
       "       [  38,  427],\n",
       "       [  92, 1287],\n",
       "       [  36,  147],\n",
       "       [  11,   85],\n",
       "       [  53,  752],\n",
       "       [   1,    1]], dtype=int64)"
      ]
     },
     "execution_count": 20,
     "metadata": {},
     "output_type": "execute_result"
    }
   ],
   "source": [
    "X"
   ]
  },
  {
   "cell_type": "code",
   "execution_count": 12,
   "metadata": {},
   "outputs": [],
   "source": [
    "X_train, X_Test, y_train, y_test = model_selection.train_test_split(X,y,test_size=.20)"
   ]
  },
  {
   "cell_type": "code",
   "execution_count": 13,
   "metadata": {},
   "outputs": [],
   "source": [
    "classifier = neighbors.KNeighborsClassifier()"
   ]
  },
  {
   "cell_type": "code",
   "execution_count": 14,
   "metadata": {},
   "outputs": [
    {
     "data": {
      "text/plain": [
       "KNeighborsClassifier(algorithm='auto', leaf_size=30, metric='minkowski',\n",
       "           metric_params=None, n_jobs=1, n_neighbors=5, p=2,\n",
       "           weights='uniform')"
      ]
     },
     "execution_count": 14,
     "metadata": {},
     "output_type": "execute_result"
    }
   ],
   "source": [
    "classifier.fit(X_train,y_train)"
   ]
  },
  {
   "cell_type": "code",
   "execution_count": 15,
   "metadata": {},
   "outputs": [],
   "source": [
    "accuracy = classifier.score(X_Test,y_test)"
   ]
  },
  {
   "cell_type": "code",
   "execution_count": 16,
   "metadata": {},
   "outputs": [
    {
     "data": {
      "text/plain": [
       "0.59090909090909094"
      ]
     },
     "execution_count": 16,
     "metadata": {},
     "output_type": "execute_result"
    }
   ],
   "source": [
    "accuracy"
   ]
  },
  {
   "cell_type": "code",
   "execution_count": 17,
   "metadata": {},
   "outputs": [],
   "source": [
    "predict_data = np.array([49,684])\n",
    "predict_data = predict_data.reshape(1,-1)"
   ]
  },
  {
   "cell_type": "code",
   "execution_count": 18,
   "metadata": {},
   "outputs": [],
   "source": [
    "prediction = classifier.predict(predict_data)"
   ]
  },
  {
   "cell_type": "code",
   "execution_count": 19,
   "metadata": {},
   "outputs": [
    {
     "data": {
      "text/plain": [
       "array([2], dtype=int64)"
      ]
     },
     "execution_count": 19,
     "metadata": {},
     "output_type": "execute_result"
    }
   ],
   "source": [
    "prediction"
   ]
  },
  {
   "cell_type": "code",
   "execution_count": null,
   "metadata": {},
   "outputs": [],
   "source": []
  }
 ],
 "metadata": {
  "kernelspec": {
   "display_name": "Python 3",
   "language": "python",
   "name": "python3"
  },
  "language_info": {
   "codemirror_mode": {
    "name": "ipython",
    "version": 3
   },
   "file_extension": ".py",
   "mimetype": "text/x-python",
   "name": "python",
   "nbconvert_exporter": "python",
   "pygments_lexer": "ipython3",
   "version": "3.6.3"
  }
 },
 "nbformat": 4,
 "nbformat_minor": 2
}
