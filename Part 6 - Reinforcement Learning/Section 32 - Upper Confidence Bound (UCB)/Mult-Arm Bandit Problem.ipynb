{
 "cells": [
  {
   "cell_type": "code",
   "execution_count": 4,
   "metadata": {},
   "outputs": [],
   "source": [
    "import tensorflow as tf\n",
    "import numpy as np"
   ]
  },
  {
   "cell_type": "code",
   "execution_count": 2,
   "metadata": {},
   "outputs": [],
   "source": [
    "#list out our bandits\n",
    "#bandit 4 (index 3) is set to provide\n",
    "#most often\n",
    "bandits = [.2,0,-.2,-5]\n",
    "num_bandits = len(bandits)\n",
    "\n",
    "def pull_bandit(bandit):\n",
    "    result = np.random.randn(1)\n",
    "    if result > bandit:\n",
    "        return 1\n",
    "    else:\n",
    "        return -1"
   ]
  },
  {
   "cell_type": "code",
   "execution_count": 9,
   "metadata": {},
   "outputs": [],
   "source": [
    "#init our agent\n",
    "tf.reset_default_graph()\n",
    "\n",
    "#Establish the feedfoward part of the network\n",
    "#this does the actual choosing\n",
    "\n",
    "weights = tf.Variable(tf.ones([num_bandits]))\n",
    "chosen_action = tf.argmax(weights, 0)\n",
    "\n",
    "#the enxt six lines establish the training procedure\n",
    "#We feed the reward and chosen action into the network\n",
    "#to compute the loss, and use it to update the network\n",
    "reward_holder = tf.placeholder(shape=[1], dtype = tf.float32)\n",
    "action_holder = tf.placeholder(shape=[1], dtype = tf.int32)\n",
    "responsible_weight = tf.slice(weights, action_holder,[1])\n",
    "loss = -(tf.log(responsible_weight) * reward_holder)\n",
    "optimizer = tf.train.GradientDescentOptimizer(learning_rate = .001)\n",
    "update = optimizer.minimize(loss)"
   ]
  },
  {
   "cell_type": "code",
   "execution_count": 10,
   "metadata": {},
   "outputs": [],
   "source": [
    "#train the agent\n",
    "\n",
    "total_episodes = 1000\n",
    "total_reward = np.zeros(num_bandits)\n",
    "e = 0.1 #The chance of taking a random action"
   ]
  },
  {
   "cell_type": "code",
   "execution_count": 16,
   "metadata": {},
   "outputs": [
    {
     "name": "stdout",
     "output_type": "stream",
     "text": [
      "Running reward for the 4 bandits: [1. 0. 0. 0.]\n",
      "Running reward for the 4 bandits: [-2. -2.  0. 39.]\n",
      "Running reward for the 4 bandits: [-4. -2.  1. 84.]\n",
      "Running reward for the 4 bandits: [ -4.   0.  -1. 130.]\n",
      "Running reward for the 4 bandits: [ -4.   0.   0. 179.]\n",
      "Running reward for the 4 bandits: [ -5.   2.   0. 226.]\n",
      "Running reward for the 4 bandits: [ -6.   2.   0. 275.]\n",
      "Running reward for the 4 bandits: [ -7.   2.   0. 324.]\n",
      "Running reward for the 4 bandits: [ -9.   3.   0. 369.]\n",
      "Running reward for the 4 bandits: [-11.   1.   1. 412.]\n",
      "Running reward for the 4 bandits: [-10.   0.   0. 459.]\n",
      "Running reward for the 4 bandits: [-11.   2.   1. 505.]\n",
      "Running reward for the 4 bandits: [-11.   2.   1. 555.]\n",
      "Running reward for the 4 bandits: [-12.   2.   0. 603.]\n",
      "Running reward for the 4 bandits: [-14.   2.  -1. 648.]\n",
      "Running reward for the 4 bandits: [-14.   2.  -2. 695.]\n",
      "Running reward for the 4 bandits: [-14.   1.  -3. 743.]\n",
      "Running reward for the 4 bandits: [-13.   1.  -3. 788.]\n",
      "Running reward for the 4 bandits: [-15.   1.  -3. 832.]\n",
      "Running reward for the 4 bandits: [-16.   2.  -2. 879.]\n"
     ]
    },
    {
     "ename": "TypeError",
     "evalue": "ufunc 'add' did not contain a loop with signature matching types dtype('<U25') dtype('<U25') dtype('<U25')",
     "output_type": "error",
     "traceback": [
      "\u001b[1;31m------------------------------------------------------------------\u001b[0m",
      "\u001b[1;31mTypeError\u001b[0m                        Traceback (most recent call last)",
      "\u001b[1;32m<ipython-input-16-58f86c5380b5>\u001b[0m in \u001b[0;36m<module>\u001b[1;34m()\u001b[0m\n\u001b[0;32m     26\u001b[0m             \u001b[0mprint\u001b[0m\u001b[1;33m(\u001b[0m\u001b[1;34m\"Running reward for the \"\u001b[0m \u001b[1;33m+\u001b[0m \u001b[0mstr\u001b[0m\u001b[1;33m(\u001b[0m\u001b[0mnum_bandits\u001b[0m\u001b[1;33m)\u001b[0m \u001b[1;33m+\u001b[0m \u001b[1;34m\" bandits: \"\u001b[0m \u001b[1;33m+\u001b[0m \u001b[0mstr\u001b[0m\u001b[1;33m(\u001b[0m\u001b[0mtotal_reward\u001b[0m\u001b[1;33m)\u001b[0m\u001b[1;33m)\u001b[0m\u001b[1;33m\u001b[0m\u001b[0m\n\u001b[0;32m     27\u001b[0m         \u001b[0mi\u001b[0m\u001b[1;33m+=\u001b[0m\u001b[1;36m1\u001b[0m\u001b[1;33m\u001b[0m\u001b[0m\n\u001b[1;32m---> 28\u001b[1;33m \u001b[0mprint\u001b[0m\u001b[1;33m(\u001b[0m\u001b[1;34m\"The agent thinks bandit \"\u001b[0m \u001b[1;33m+\u001b[0m \u001b[0mstr\u001b[0m\u001b[1;33m(\u001b[0m\u001b[0mnp\u001b[0m\u001b[1;33m.\u001b[0m\u001b[0margmax\u001b[0m\u001b[1;33m(\u001b[0m\u001b[0mww\u001b[0m\u001b[1;33m)\u001b[0m\u001b[1;33m+\u001b[0m\u001b[1;36m1\u001b[0m \u001b[1;33m+\u001b[0m \u001b[1;34m\" is the most promising...\"\u001b[0m\u001b[1;33m)\u001b[0m\u001b[1;33m)\u001b[0m\u001b[1;33m\u001b[0m\u001b[0m\n\u001b[0m\u001b[0;32m     29\u001b[0m \u001b[1;32mif\u001b[0m \u001b[0mnp\u001b[0m\u001b[1;33m.\u001b[0m\u001b[0margmax\u001b[0m\u001b[1;33m(\u001b[0m\u001b[0mww\u001b[0m\u001b[1;33m)\u001b[0m \u001b[1;33m==\u001b[0m \u001b[0mnp\u001b[0m\u001b[1;33m.\u001b[0m\u001b[0margmax\u001b[0m\u001b[1;33m(\u001b[0m\u001b[1;33m-\u001b[0m\u001b[0mnp\u001b[0m\u001b[1;33m.\u001b[0m\u001b[0marray\u001b[0m\u001b[1;33m(\u001b[0m\u001b[0mbandiuts\u001b[0m\u001b[1;33m)\u001b[0m\u001b[1;33m)\u001b[0m\u001b[1;33m:\u001b[0m\u001b[1;33m\u001b[0m\u001b[0m\n\u001b[0;32m     30\u001b[0m     \u001b[0mprint\u001b[0m\u001b[1;33m(\u001b[0m\u001b[1;34m\"... and it was right!\"\u001b[0m\u001b[1;33m)\u001b[0m\u001b[1;33m\u001b[0m\u001b[0m\n",
      "\u001b[1;31mTypeError\u001b[0m: ufunc 'add' did not contain a loop with signature matching types dtype('<U25') dtype('<U25') dtype('<U25')"
     ]
    }
   ],
   "source": [
    "total_episodes = 1000\n",
    "total_reward = np.zeros(num_bandits)\n",
    "\n",
    "init = tf.initialize_all_variables()\n",
    "\n",
    "#launch TF graph\n",
    "with tf.Session() as sess:\n",
    "    sess.run(init)\n",
    "    i = 0\n",
    "    while i < total_episodes:\n",
    "        #choose either random action or one from our network\n",
    "        if np.random.rand(1) < e:\n",
    "            action = np.random.randint(num_bandits)\n",
    "        else:\n",
    "            action = sess.run(chosen_action)\n",
    "        #get our reward from picking one of the bandits\n",
    "        reward = pull_bandit(bandits[action])\n",
    "                #update the network\n",
    "        _,resp,ww = sess.run([update, responsible_weight, weights],\n",
    "                             feed_dict={reward_holder:[reward],\n",
    "                                        action_holder:[action]})\n",
    "            \n",
    "            #ypdate our running tally of scores\n",
    "        total_reward[action] += reward\n",
    "        if i % 50 == 0:\n",
    "            print(\"Running reward for the \" + str(num_bandits) + \" bandits: \" + str(total_reward))\n",
    "        i+=1\n",
    "print(\"The agent thinks bandit \" + str(np.argmax(ww)+1 + \" is the most promising...\"))\n",
    "if np.argmax(ww) == np.argmax(-np.array(bandiuts)):\n",
    "    print(\"... and it was right!\")\n",
    "else:\n",
    "    print(\"...and it was wrong!\")"
   ]
  },
  {
   "cell_type": "code",
   "execution_count": null,
   "metadata": {},
   "outputs": [],
   "source": []
  }
 ],
 "metadata": {
  "kernelspec": {
   "display_name": "Python 3",
   "language": "python",
   "name": "python3"
  },
  "language_info": {
   "codemirror_mode": {
    "name": "ipython",
    "version": 3
   },
   "file_extension": ".py",
   "mimetype": "text/x-python",
   "name": "python",
   "nbconvert_exporter": "python",
   "pygments_lexer": "ipython3",
   "version": "3.6.3"
  }
 },
 "nbformat": 4,
 "nbformat_minor": 2
}
